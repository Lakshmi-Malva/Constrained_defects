{
 "cells": [
  {
   "cell_type": "code",
   "execution_count": 5,
   "metadata": {},
   "outputs": [],
   "source": [
    "from sympy import symbols, pretty_print, Matrix, eye, Trace, Symbol"
   ]
  },
  {
   "cell_type": "code",
   "execution_count": 6,
   "metadata": {},
   "outputs": [],
   "source": [
    "p, q, e = symbols('p q e')\n",
    "E = Matrix([[p,e],[e,q]])\n",
    "w = Symbol('omega')\n",
    "Omega = Matrix([[0,w],[-w,0]])"
   ]
  },
  {
   "cell_type": "code",
   "execution_count": 7,
   "metadata": {},
   "outputs": [],
   "source": [
    "lam = Symbol('lambda')\n",
    "q1, q2 = symbols('q1 q2')\n",
    "Q = Matrix([[q1, q2], [q2, -q1]])\n",
    "I_2 = eye(2)/2"
   ]
  },
  {
   "cell_type": "code",
   "execution_count": 8,
   "metadata": {},
   "outputs": [
    {
     "data": {
      "text/latex": [
       "$\\displaystyle \\left[\\begin{matrix}\\lambda p \\left(q_{1} + \\frac{1}{2}\\right) + q_{2} \\left(e \\lambda + \\omega\\right) & \\lambda p q_{2} + \\left(\\frac{1}{2} - q_{1}\\right) \\left(e \\lambda + \\omega\\right)\\\\\\lambda q q_{2} + \\left(q_{1} + \\frac{1}{2}\\right) \\left(e \\lambda - \\omega\\right) & \\lambda q \\left(\\frac{1}{2} - q_{1}\\right) + q_{2} \\left(e \\lambda - \\omega\\right)\\end{matrix}\\right]$"
      ],
      "text/plain": [
       "Matrix([\n",
       "[lambda*p*(q1 + 1/2) + q2*(e*lambda + omega), lambda*p*q2 + (1/2 - q1)*(e*lambda + omega)],\n",
       "[lambda*q*q2 + (q1 + 1/2)*(e*lambda - omega), lambda*q*(1/2 - q1) + q2*(e*lambda - omega)]])"
      ]
     },
     "execution_count": 8,
     "metadata": {},
     "output_type": "execute_result"
    }
   ],
   "source": [
    "S1 = (lam * E + Omega)*(Q + I_2)\n",
    "S1"
   ]
  },
  {
   "cell_type": "code",
   "execution_count": 9,
   "metadata": {},
   "outputs": [
    {
     "data": {
      "text/latex": [
       "$\\displaystyle \\left[\\begin{matrix}\\lambda p \\left(q_{1} + \\frac{1}{2}\\right) + q_{2} \\left(e \\lambda + \\omega\\right) & \\lambda q q_{2} + \\left(q_{1} + \\frac{1}{2}\\right) \\left(e \\lambda - \\omega\\right)\\\\\\lambda p q_{2} + \\left(\\frac{1}{2} - q_{1}\\right) \\left(e \\lambda + \\omega\\right) & \\lambda q \\left(\\frac{1}{2} - q_{1}\\right) + q_{2} \\left(e \\lambda - \\omega\\right)\\end{matrix}\\right]$"
      ],
      "text/plain": [
       "Matrix([\n",
       "[lambda*p*(q1 + 1/2) + q2*(e*lambda + omega), lambda*q*q2 + (q1 + 1/2)*(e*lambda - omega)],\n",
       "[lambda*p*q2 + (1/2 - q1)*(e*lambda + omega), lambda*q*(1/2 - q1) + q2*(e*lambda - omega)]])"
      ]
     },
     "execution_count": 9,
     "metadata": {},
     "output_type": "execute_result"
    }
   ],
   "source": [
    "S2 = (Q + I_2)*(lam * E - Omega)\n",
    "S2"
   ]
  },
  {
   "cell_type": "code",
   "execution_count": 10,
   "metadata": {},
   "outputs": [
    {
     "data": {
      "text/latex": [
       "$\\displaystyle \\left[\\begin{matrix}p & e + \\omega\\\\e - \\omega & q\\end{matrix}\\right]$"
      ],
      "text/plain": [
       "Matrix([\n",
       "[        p, e + omega],\n",
       "[e - omega,         q]])"
      ]
     },
     "execution_count": 10,
     "metadata": {},
     "output_type": "execute_result"
    }
   ],
   "source": [
    "del_U = E + Omega\n",
    "del_U"
   ]
  },
  {
   "cell_type": "code",
   "execution_count": 11,
   "metadata": {},
   "outputs": [
    {
     "data": {
      "text/latex": [
       "$\\displaystyle p q_{1} - q q_{1} + q_{2} \\left(e - \\omega\\right) + q_{2} \\left(e + \\omega\\right)$"
      ],
      "text/plain": [
       "p*q1 - q*q1 + q2*(e - omega) + q2*(e + omega)"
      ]
     },
     "execution_count": 11,
     "metadata": {},
     "output_type": "execute_result"
    }
   ],
   "source": [
    "prod = Trace(Q * del_U.T).simplify()\n",
    "prod"
   ]
  },
  {
   "cell_type": "code",
   "execution_count": 12,
   "metadata": {},
   "outputs": [
    {
     "data": {
      "text/latex": [
       "$\\displaystyle \\left[\\begin{matrix}- 2 \\lambda \\left(q_{1} + \\frac{1}{2}\\right) \\left(p q_{1} - q q_{1} + q_{2} \\left(e - \\omega\\right) + q_{2} \\left(e + \\omega\\right)\\right) & - 2 \\lambda q_{2} \\left(p q_{1} - q q_{1} + q_{2} \\left(e - \\omega\\right) + q_{2} \\left(e + \\omega\\right)\\right)\\\\- 2 \\lambda q_{2} \\left(p q_{1} - q q_{1} + q_{2} \\left(e - \\omega\\right) + q_{2} \\left(e + \\omega\\right)\\right) & - 2 \\lambda \\left(\\frac{1}{2} - q_{1}\\right) \\left(p q_{1} - q q_{1} + q_{2} \\left(e - \\omega\\right) + q_{2} \\left(e + \\omega\\right)\\right)\\end{matrix}\\right]$"
      ],
      "text/plain": [
       "Matrix([\n",
       "[-2*lambda*(q1 + 1/2)*(p*q1 - q*q1 + q2*(e - omega) + q2*(e + omega)),         -2*lambda*q2*(p*q1 - q*q1 + q2*(e - omega) + q2*(e + omega))],\n",
       "[        -2*lambda*q2*(p*q1 - q*q1 + q2*(e - omega) + q2*(e + omega)), -2*lambda*(1/2 - q1)*(p*q1 - q*q1 + q2*(e - omega) + q2*(e + omega))]])"
      ]
     },
     "execution_count": 12,
     "metadata": {},
     "output_type": "execute_result"
    }
   ],
   "source": [
    "S3 = -2 * lam * prod * (Q + I_2)\n",
    "S3"
   ]
  },
  {
   "cell_type": "code",
   "execution_count": 16,
   "metadata": {},
   "outputs": [
    {
     "data": {
      "text/latex": [
       "$\\displaystyle - 4 e \\lambda q_{2}^{2} + e \\lambda - 2 \\lambda p q_{1} q_{2} + \\lambda p q_{2} + 2 \\lambda q q_{1} q_{2} + \\lambda q q_{2} - 2 \\omega q_{1}$"
      ],
      "text/plain": [
       "-4*e*lambda*q2**2 + e*lambda - 2*lambda*p*q1*q2 + lambda*p*q2 + 2*lambda*q*q1*q2 + lambda*q*q2 - 2*omega*q1"
      ]
     },
     "execution_count": 16,
     "metadata": {},
     "output_type": "execute_result"
    }
   ],
   "source": [
    "S = (S1 + S2 + S3)\n",
    "S[2].simplify()"
   ]
  }
 ],
 "metadata": {
  "kernelspec": {
   "display_name": "Python 3",
   "language": "python",
   "name": "python3"
  },
  "language_info": {
   "codemirror_mode": {
    "name": "ipython",
    "version": 3
   },
   "file_extension": ".py",
   "mimetype": "text/x-python",
   "name": "python",
   "nbconvert_exporter": "python",
   "pygments_lexer": "ipython3",
   "version": "3.12.4"
  }
 },
 "nbformat": 4,
 "nbformat_minor": 2
}
